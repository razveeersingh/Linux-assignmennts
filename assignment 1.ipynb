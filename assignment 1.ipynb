{
 "cells": [
  {
   "cell_type": "code",
   "execution_count": 5,
   "metadata": {},
   "outputs": [
    {
     "name": "stdout",
     "output_type": "stream",
     "text": [
      "350\n"
     ]
    }
   ],
   "source": [
    "unit_num = int(input(\"the number of inputs: \"))\n",
    "if unit_num>30:\n",
    "    price=900+10*(unit_num-30)\n",
    "    print(price)\n",
    "elif unit_num>50 and unit_num<=20:\n",
    "    price=500+20*(unit_num-10)\n",
    "    print(price)\n",
    "else:\n",
    "    print(50*unit_num)"
   ]
  },
  {
   "cell_type": "code",
   "execution_count": 12,
   "metadata": {},
   "outputs": [
    {
     "name": "stdout",
     "output_type": "stream",
     "text": [
      "we can't make a triangle\n"
     ]
    }
   ],
   "source": [
    "side1 = int(input(\"give the 1st side:\"))\n",
    "side2 = int(input(\"give the 2nd side\"))\n",
    "side3 = int(input(\"give the 3rd side\"))\n",
    "if side1+side2==side3:\n",
    "    print(\"we can make a triangle by these lengths.\")\n",
    "else:\n",
    "    print(\"we can't make a triangle\")"
   ]
  },
  {
   "cell_type": "code",
   "execution_count": 14,
   "metadata": {},
   "outputs": [
    {
     "name": "stdout",
     "output_type": "stream",
     "text": [
      "the number is divisible by 6\n"
     ]
    }
   ],
   "source": [
    "num=int(input(\"give the number to be checked:\"))\n",
    "if num%2==0 and num%3==0:\n",
    "    print (\"the number is divisible by 6\")\n",
    "else:\n",
    "    print(\"the number is not divisible by 6\")"
   ]
  }
 ],
 "metadata": {
  "language_info": {
   "name": "python"
  }
 },
 "nbformat": 4,
 "nbformat_minor": 2
}
